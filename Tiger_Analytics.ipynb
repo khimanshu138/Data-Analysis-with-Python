{
  "nbformat": 4,
  "nbformat_minor": 0,
  "metadata": {
    "colab": {
      "name": "Tiger Analytics.ipynb",
      "provenance": [],
      "authorship_tag": "ABX9TyPSOKKa2K3ZEp6HOt9VqT9P",
      "include_colab_link": true
    },
    "kernelspec": {
      "name": "python3",
      "display_name": "Python 3"
    },
    "language_info": {
      "name": "python"
    }
  },
  "cells": [
    {
      "cell_type": "markdown",
      "metadata": {
        "id": "view-in-github",
        "colab_type": "text"
      },
      "source": [
        "<a href=\"https://colab.research.google.com/github/khimanshu138/Data-Analysis-with-Python/blob/main/Tiger_Analytics.ipynb\" target=\"_parent\"><img src=\"https://colab.research.google.com/assets/colab-badge.svg\" alt=\"Open In Colab\"/></a>"
      ]
    },
    {
      "cell_type": "code",
      "execution_count": null,
      "metadata": {
        "id": "asV7g8Hpnm0h"
      },
      "outputs": [],
      "source": [
        "impor"
      ]
    }
  ]
}